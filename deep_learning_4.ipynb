{
 "cells": [
  {
   "cell_type": "markdown",
   "metadata": {},
   "source": [
    "## 目录\n",
    "\n",
    "- [0.书本介绍](https://applenob.github.io/deep_learning_1#0.书本介绍)\n",
    "- [1. Introduction](https://applenob.github.io/deep_learning_1#1.-Introduction)\n",
    "- [2. Linear Algebra](https://applenob.github.io/deep_learning_2)\n",
    "- [3. Probability and Information Theory](https://applenob.github.io/deep_learning_3)\n",
    "- [4. Numerical Computation](https://applenob.github.io/deep_learning_4)\n",
    "- [5. Machine Learning Basics](https://applenob.github.io/deep_learning_5)\n",
    "- [6. Deep Feedforward Networks](https://applenob.github.io/deep_learning_6)\n",
    "- [7. Regularization for Deep Learning](https://applenob.github.io/deep_learning_7)\n",
    "- [8. Optimization for Training Deep Models](https://applenob.github.io/deep_learning_8)\n",
    "- [9. Convolutional Networks](https://applenob.github.io/deep_learning_9)\n",
    "- [10. Sequence Modeling: Recurrent and Recursive Nets](https://applenob.github.io/deep_learning_10)\n",
    "- [11. Practical Methodology](https://applenob.github.io/deep_learning_11)\n",
    "- [12. Application](https://applenob.github.io/deep_learning_12)\n",
    "- [13. Linear Factor Models](https://applenob.github.io/deep_learning_13)\n",
    "- [14. Autoencoders](https://applenob.github.io/deep_learning_14)\n",
    "- [15. Representation Learning](https://applenob.github.io/deep_learning_15)\n",
    "- [16. Structured Probabilistic Models for Deep Learning](https://applenob.github.io/deep_learning_16)\n",
    "- [17. Monte Carlo Methods](https://applenob.github.io/deep_learning_17)\n",
    "- [18. Confronting the Partition Function](https://applenob.github.io/deep_learning_18)\n",
    "- [19. Approximate Inference](https://applenob.github.io/deep_learning_19)\n",
    "- [20. Deep Generative Models](https://applenob.github.io/deep_learning_20)\n",
    "\n",
    "***\n",
    "***"
   ]
  },
  {
   "cell_type": "markdown",
   "metadata": {
    "collapsed": true
   },
   "source": [
    "# 4. Numerical Computation\n",
    "\n",
    "**数值优化（Numerical Computation）**：通常指代那些在解决数学问题时，不使用从符号表达式中直接推导出解析解，而是使用迭代更新的方式获取答案的算法。\n",
    "\n",
    "**上溢和下溢（overflow/underflow）**：数据太小或者太大，在计算机内存中无法表示。\n",
    "\n",
    "**优化问题（optimization problem）**：优化目标：最小化函数：损失函数（loss function）/ 错误函数（error function）通常上标\\*表示最优解。$x^*=argmin f(x)$\n",
    "\n",
    "**临界点（critical point）**：$f'(x)=0$的点称为临界点，一般临界点取得极大值或者极小值，否则为鞍点（saddle point）。\n",
    "\n",
    "**梯度下降（gradient descent）**：$x' = x-ε\\triangledown _xf(x)$，其中，ε是学习率。\n",
    "\n",
    "**Jacobian 矩阵（Jacobian matrix）**：如果我们有一个函数f:$\\mathbb{R}^m \\rightarrow \\mathbb{R}^n$，那么Jacobian矩阵即为：$J_{i,j} = \\frac {\\partial}{\\partial x_j}f(x)_i$。\n",
    "\n",
    "**Hessian 矩阵（Hessian matrix）**：$H(f)(x)_{i,j} = \\frac {\\partial ^2}{\\partial x_i \\partial x_j}f(x)$。可以知道，Hessian矩阵是对称阵。\n",
    "\n",
    "**牛顿法（Newton's method）**：将函数用二阶的泰勒公式近似：$f(x)≈f(x^{(0)})+(x-x^{(0)})^T\\triangledown_xf(x^{(0)})+\\frac{1}{2}(x-x^{(0)})^TH(f)(x^{(0)})(x-x^{(0)})$，求解临界点$x^* = x^{(0)}-H(f)(x^{(0)})^{-1}\\triangledown_xf(x^{(0)})$。梯度下降称为“一阶优化算法”；牛顿法称为“二阶优化算法”。\n",
    "\n",
    "### KKT方法求解约束优化（constrained optimization）问题\n",
    "\n",
    "约束空间$\\mathbb{S}=\\{x|\\forall i, g^{(i)}(x)=0\\, and\\, \\forall j, h^{(j)}(x)\\leq 0\\}$，$g$称为**等式约束**，$h$称为**不等式约束**。\n",
    "\n",
    "引入变量$λ_i$和$α_j$，称为**KKT乘子**。\n",
    "\n",
    "拉格朗日函数（generalized Lagrangian）：$L(x,λ,α)=f(x)+\\sum _iλ_ig^{(i)}(x) + \\sum _jα_jh^{(j)}(x) $\n",
    "\n",
    "$\\underset{x}{min}\\; \\underset{λ}{max}\\underset{α,α\\geq 0}{max}L(x,λ,α)$等价于$\\underset{x∈\\mathbb{S}}{min}\\;f(x)$。\n",
    "\n",
    "**KKT条件**：\n",
    "\n",
    "1.拉格朗日函数对$x$，$λ$，$α$求偏导都为0；\n",
    "\n",
    "2.对于不等式约束，$α\\bigodot h(x)=\\mathbf{0}$。\n",
    "\n",
    "****\n",
    "\n",
    "****\n"
   ]
  },
  {
   "cell_type": "code",
   "execution_count": null,
   "metadata": {
    "collapsed": true
   },
   "outputs": [],
   "source": []
  }
 ],
 "metadata": {
  "anaconda-cloud": {},
  "kernelspec": {
   "display_name": "Python [default]",
   "language": "python",
   "name": "python2"
  },
  "language_info": {
   "codemirror_mode": {
    "name": "ipython",
    "version": 2
   },
   "file_extension": ".py",
   "mimetype": "text/x-python",
   "name": "python",
   "nbconvert_exporter": "python",
   "pygments_lexer": "ipython2",
   "version": "2.7.12"
  }
 },
 "nbformat": 4,
 "nbformat_minor": 0
}

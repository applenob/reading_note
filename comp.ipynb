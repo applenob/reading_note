{
 "cells": [
  {
   "cell_type": "markdown",
   "metadata": {
    "collapsed": true
   },
   "source": [
    "# 《复杂》读书笔记\n",
    "\n",
    "## 1.书本简介\n",
    "\n",
    "![](https://img3.doubanio.com/lpic/s6881762.jpg)\n",
    "\n",
    "[豆瓣地址](https://book.douban.com/subject/6749832/)\n",
    "\n",
    "**目录**\n",
    "\n",
    "```\n",
    "前言\n",
    "致谢\n",
    "第一部分 背景和历史\n",
    "第1章 复杂性是什么\n",
    "昆虫群落\n",
    "大脑\n",
    "免疫系统\n",
    "经济\n",
    "万维网\n",
    "复杂系统的共性\n",
    "如何度量复杂性\n",
    "第2章 动力学、混沌和预测\n",
    "动力系统理论的起源\n",
    "对预测的重新认识\n",
    "线性兔子和非线性兔子\n",
    "逻辑斯蒂映射\n",
    "混沌的共性\n",
    "混沌思想带来的革命\n",
    "第3章 信息\n",
    "信息是什么\n",
    "能量、功、熵\n",
    "麦克斯韦妖\n",
    "统计力学提要\n",
    "微观态与宏观态\n",
    "香农信息\n",
    "第4章 计算\n",
    "什么是计算？什么可以计算\n",
    "希尔伯特问题和哥德尔定理\n",
    "图灵机和不可计算性\n",
    "定义为图灵机的明确程序\n",
    "通用图灵机\n",
    "图灵对判定问题的解决\n",
    "哥德尔和图灵的命运\n",
    "第5章 进化\n",
    "达尔文之前的进化观念\n",
    "达尔文理论的起源\n",
    "孟德尔和遗传律\n",
    "现代综合\n",
    "对现代综合的挑战\n",
    "第6章 遗传学概要\n",
    "第7章 度量复杂性\n",
    "用大小度量复杂性\n",
    "用熵度量复杂性\n",
    "用算法信息量度量复杂性\n",
    "……\n",
    "第二部分 计算机中和生命和进化\n",
    "第三部分 大写的计算\n",
    "第四部分 网络\n",
    "第五部分 尾声\n",
    "参考文献\n",
    "```"
   ]
  },
  {
   "cell_type": "markdown",
   "metadata": {},
   "source": [
    "## 2. 笔记"
   ]
  },
  {
   "cell_type": "markdown",
   "metadata": {},
   "source": []
  }
 ],
 "metadata": {
  "anaconda-cloud": {},
  "kernelspec": {
   "display_name": "Python [default]",
   "language": "python",
   "name": "python2"
  },
  "language_info": {
   "codemirror_mode": {
    "name": "ipython",
    "version": 2.0
   },
   "file_extension": ".py",
   "mimetype": "text/x-python",
   "name": "python",
   "nbconvert_exporter": "python",
   "pygments_lexer": "ipython2",
   "version": "2.7.12"
  }
 },
 "nbformat": 4,
 "nbformat_minor": 0
}